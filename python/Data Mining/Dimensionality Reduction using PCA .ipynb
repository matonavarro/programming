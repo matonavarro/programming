{
 "cells": [
  {
   "cell_type": "markdown",
   "metadata": {},
   "source": [
    "### Dimensionality Reduction using PCA  \n",
    "#### Linear dimensionality reduction using Singular Value Decomposition of the data to project it to a lower dimensional space."
   ]
  },
  {
   "cell_type": "markdown",
   "metadata": {},
   "source": [
    "# Import libraries"
   ]
  },
  {
   "cell_type": "code",
   "execution_count": 1,
   "metadata": {},
   "outputs": [],
   "source": [
    "import pandas as pd\n",
    "import numpy as np\n",
    "from sklearn.preprocessing import scale\n",
    "from sklearn.decomposition import PCA\n",
    "import matplotlib.pyplot as plt\n",
    "import os"
   ]
  },
  {
   "cell_type": "markdown",
   "metadata": {},
   "source": [
    "# Load data"
   ]
  },
  {
   "cell_type": "markdown",
   "metadata": {},
   "source": [
    "Data from online personality test used to measure the big 5 personality factors (Extraversion, Agreeableness, Conscientiousness, Neuroticism, Openness to Experience)"
   ]
  },
  {
   "cell_type": "code",
   "execution_count": 2,
   "metadata": {},
   "outputs": [],
   "source": [
    "dirpath = os.getcwd()"
   ]
  },
  {
   "cell_type": "code",
   "execution_count": 3,
   "metadata": {},
   "outputs": [],
   "source": [
    "data = pd.read_csv(dirpath+'\\\\data\\\\b5.csv')"
   ]
  },
  {
   "cell_type": "code",
   "execution_count": 4,
   "metadata": {},
   "outputs": [
    {
     "data": {
      "text/html": [
       "<div>\n",
       "<style scoped>\n",
       "    .dataframe tbody tr th:only-of-type {\n",
       "        vertical-align: middle;\n",
       "    }\n",
       "\n",
       "    .dataframe tbody tr th {\n",
       "        vertical-align: top;\n",
       "    }\n",
       "\n",
       "    .dataframe thead th {\n",
       "        text-align: right;\n",
       "    }\n",
       "</style>\n",
       "<table border=\"1\" class=\"dataframe\">\n",
       "  <thead>\n",
       "    <tr style=\"text-align: right;\">\n",
       "      <th></th>\n",
       "      <th>E1</th>\n",
       "      <th>E2</th>\n",
       "      <th>E3</th>\n",
       "      <th>E4</th>\n",
       "      <th>E5</th>\n",
       "      <th>E6</th>\n",
       "      <th>E7</th>\n",
       "      <th>E8</th>\n",
       "      <th>E9</th>\n",
       "      <th>E10</th>\n",
       "      <th>...</th>\n",
       "      <th>O1</th>\n",
       "      <th>O2</th>\n",
       "      <th>O3</th>\n",
       "      <th>O4</th>\n",
       "      <th>O5</th>\n",
       "      <th>O6</th>\n",
       "      <th>O7</th>\n",
       "      <th>O8</th>\n",
       "      <th>O9</th>\n",
       "      <th>O10</th>\n",
       "    </tr>\n",
       "  </thead>\n",
       "  <tbody>\n",
       "    <tr>\n",
       "      <th>0</th>\n",
       "      <td>4</td>\n",
       "      <td>2</td>\n",
       "      <td>5</td>\n",
       "      <td>2</td>\n",
       "      <td>5</td>\n",
       "      <td>1</td>\n",
       "      <td>4</td>\n",
       "      <td>3</td>\n",
       "      <td>5</td>\n",
       "      <td>1</td>\n",
       "      <td>...</td>\n",
       "      <td>4</td>\n",
       "      <td>1</td>\n",
       "      <td>3</td>\n",
       "      <td>1</td>\n",
       "      <td>5</td>\n",
       "      <td>1</td>\n",
       "      <td>4</td>\n",
       "      <td>2</td>\n",
       "      <td>5</td>\n",
       "      <td>5</td>\n",
       "    </tr>\n",
       "    <tr>\n",
       "      <th>1</th>\n",
       "      <td>2</td>\n",
       "      <td>2</td>\n",
       "      <td>3</td>\n",
       "      <td>3</td>\n",
       "      <td>3</td>\n",
       "      <td>3</td>\n",
       "      <td>1</td>\n",
       "      <td>5</td>\n",
       "      <td>1</td>\n",
       "      <td>5</td>\n",
       "      <td>...</td>\n",
       "      <td>3</td>\n",
       "      <td>3</td>\n",
       "      <td>3</td>\n",
       "      <td>3</td>\n",
       "      <td>2</td>\n",
       "      <td>3</td>\n",
       "      <td>3</td>\n",
       "      <td>1</td>\n",
       "      <td>3</td>\n",
       "      <td>2</td>\n",
       "    </tr>\n",
       "    <tr>\n",
       "      <th>2</th>\n",
       "      <td>5</td>\n",
       "      <td>1</td>\n",
       "      <td>1</td>\n",
       "      <td>4</td>\n",
       "      <td>5</td>\n",
       "      <td>1</td>\n",
       "      <td>1</td>\n",
       "      <td>5</td>\n",
       "      <td>5</td>\n",
       "      <td>1</td>\n",
       "      <td>...</td>\n",
       "      <td>4</td>\n",
       "      <td>5</td>\n",
       "      <td>5</td>\n",
       "      <td>1</td>\n",
       "      <td>5</td>\n",
       "      <td>1</td>\n",
       "      <td>5</td>\n",
       "      <td>5</td>\n",
       "      <td>5</td>\n",
       "      <td>5</td>\n",
       "    </tr>\n",
       "    <tr>\n",
       "      <th>3</th>\n",
       "      <td>2</td>\n",
       "      <td>5</td>\n",
       "      <td>2</td>\n",
       "      <td>4</td>\n",
       "      <td>3</td>\n",
       "      <td>4</td>\n",
       "      <td>3</td>\n",
       "      <td>4</td>\n",
       "      <td>4</td>\n",
       "      <td>5</td>\n",
       "      <td>...</td>\n",
       "      <td>4</td>\n",
       "      <td>3</td>\n",
       "      <td>5</td>\n",
       "      <td>2</td>\n",
       "      <td>4</td>\n",
       "      <td>2</td>\n",
       "      <td>5</td>\n",
       "      <td>2</td>\n",
       "      <td>5</td>\n",
       "      <td>5</td>\n",
       "    </tr>\n",
       "    <tr>\n",
       "      <th>4</th>\n",
       "      <td>3</td>\n",
       "      <td>1</td>\n",
       "      <td>3</td>\n",
       "      <td>3</td>\n",
       "      <td>3</td>\n",
       "      <td>1</td>\n",
       "      <td>3</td>\n",
       "      <td>1</td>\n",
       "      <td>3</td>\n",
       "      <td>5</td>\n",
       "      <td>...</td>\n",
       "      <td>3</td>\n",
       "      <td>1</td>\n",
       "      <td>1</td>\n",
       "      <td>1</td>\n",
       "      <td>3</td>\n",
       "      <td>1</td>\n",
       "      <td>3</td>\n",
       "      <td>1</td>\n",
       "      <td>5</td>\n",
       "      <td>3</td>\n",
       "    </tr>\n",
       "  </tbody>\n",
       "</table>\n",
       "<p>5 rows × 50 columns</p>\n",
       "</div>"
      ],
      "text/plain": [
       "   E1  E2  E3  E4  E5  E6  E7  E8  E9  E10  ...  O1  O2  O3  O4  O5  O6  O7  \\\n",
       "0   4   2   5   2   5   1   4   3   5    1  ...   4   1   3   1   5   1   4   \n",
       "1   2   2   3   3   3   3   1   5   1    5  ...   3   3   3   3   2   3   3   \n",
       "2   5   1   1   4   5   1   1   5   5    1  ...   4   5   5   1   5   1   5   \n",
       "3   2   5   2   4   3   4   3   4   4    5  ...   4   3   5   2   4   2   5   \n",
       "4   3   1   3   3   3   1   3   1   3    5  ...   3   1   1   1   3   1   3   \n",
       "\n",
       "   O8  O9  O10  \n",
       "0   2   5    5  \n",
       "1   1   3    2  \n",
       "2   5   5    5  \n",
       "3   2   5    5  \n",
       "4   1   5    3  \n",
       "\n",
       "[5 rows x 50 columns]"
      ]
     },
     "execution_count": 4,
     "metadata": {},
     "output_type": "execute_result"
    }
   ],
   "source": [
    "data.head()"
   ]
  },
  {
   "cell_type": "markdown",
   "metadata": {},
   "source": [
    "## Convert data to numpy array"
   ]
  },
  {
   "cell_type": "code",
   "execution_count": 5,
   "metadata": {},
   "outputs": [],
   "source": [
    "X = data.values"
   ]
  },
  {
   "cell_type": "markdown",
   "metadata": {},
   "source": [
    "## Scale the values"
   ]
  },
  {
   "cell_type": "code",
   "execution_count": 6,
   "metadata": {
    "scrolled": true
   },
   "outputs": [
    {
     "name": "stderr",
     "output_type": "stream",
     "text": [
      "C:\\Users\\MN101994\\AppData\\Local\\Continuum\\anaconda3\\lib\\site-packages\\sklearn\\utils\\validation.py:595: DataConversionWarning: Data with input dtype int64 was converted to float64 by the scale function.\n",
      "  warnings.warn(msg, DataConversionWarning)\n"
     ]
    }
   ],
   "source": [
    "X = scale(X)"
   ]
  },
  {
   "cell_type": "markdown",
   "metadata": {},
   "source": [
    "# Conduct PCA\n",
    "## PCA with 50 components"
   ]
  },
  {
   "cell_type": "code",
   "execution_count": 7,
   "metadata": {},
   "outputs": [
    {
     "name": "stdout",
     "output_type": "stream",
     "text": [
      "[0.16101911 0.09246263 0.07527279 0.07100381 0.05526279 0.0313044\n",
      " 0.02660753 0.02099101 0.01937029 0.01849593 0.01794133 0.01735232\n",
      " 0.01689316 0.01604282 0.01576013 0.01470117 0.01459846 0.01438242\n",
      " 0.01362569 0.01322527 0.0131285  0.01268631 0.01223362 0.01180048\n",
      " 0.01164071 0.01136677 0.01108761 0.0106515  0.01045028 0.0102118\n",
      " 0.01003675 0.00983507 0.00974897 0.00963948 0.0089566  0.00894\n",
      " 0.00868373 0.00840808 0.00831106 0.00808253 0.00793945 0.00760062\n",
      " 0.00748126 0.00727417 0.00694749 0.00689884 0.00650197 0.00647554\n",
      " 0.0062404  0.00442735]\n"
     ]
    }
   ],
   "source": [
    "pca = PCA() #keep all 50 components\n",
    "pca.fit(X)\n",
    "print(pca.explained_variance_ratio_)"
   ]
  },
  {
   "cell_type": "code",
   "execution_count": 8,
   "metadata": {},
   "outputs": [
    {
     "data": {
      "image/png": "[encoded data removed]",
      "text/plain": [
       "<Figure size 432x288 with 1 Axes>"
      ]
     },
     "metadata": {
      "needs_background": "light"
     },
     "output_type": "display_data"
    }
   ],
   "source": [
    "pca_est = PCA().fit(X.data)\n",
    "plt.plot(np.cumsum(pca.explained_variance_ratio_))\n",
    "plt.xlabel('number of components')\n",
    "plt.ylabel('cumulative explained variance');"
   ]
  },
  {
   "cell_type": "markdown",
   "metadata": {},
   "source": [
    "## PCA with 5 components"
   ]
  },
  {
   "cell_type": "code",
   "execution_count": 9,
   "metadata": {},
   "outputs": [
    {
     "name": "stdout",
     "output_type": "stream",
     "text": [
      "[0.16101911 0.09246262 0.07527271 0.07100377 0.05526254]\n"
     ]
    }
   ],
   "source": [
    "pca5 = PCA(n_components=5)\n",
    "pca5.fit(X)\n",
    "print(pca5.explained_variance_ratio_)"
   ]
  },
  {
   "cell_type": "markdown",
   "metadata": {},
   "source": [
    "#### Together, the 5 components explain ~ 45% of the variance"
   ]
  },
  {
   "cell_type": "markdown",
   "metadata": {},
   "source": [
    "## Contributions of variables to components"
   ]
  },
  {
   "cell_type": "code",
   "execution_count": 10,
   "metadata": {},
   "outputs": [
    {
     "name": "stdout",
     "output_type": "stream",
     "text": [
      "[[-0.18390951  0.17969563 -0.25064899  0.20613744 -0.23166942  0.19767975\n",
      "  -0.22070013  0.13297612 -0.16463496  0.20183503  0.15465705 -0.1297832\n",
      "   0.12271588 -0.10236801  0.14227698  0.16681178  0.16277902  0.17394664\n",
      "   0.17756813  0.19476434  0.09256141 -0.17766363  0.09908183 -0.11467442\n",
      "   0.13341391 -0.05636386  0.18785888 -0.13286003 -0.11973041 -0.18783903\n",
      "  -0.11091706  0.05023674 -0.0732403   0.15189973 -0.10873913  0.09267535\n",
      "  -0.04455594  0.1390561  -0.0913103  -0.09521825 -0.0694351   0.09889489\n",
      "  -0.03539298  0.07185591 -0.13054074  0.08698159 -0.11181784 -0.01241734\n",
      "   0.00436382 -0.11687433]\n",
      " [-0.12862982  0.16742099 -0.0730904   0.09547427 -0.14848345  0.12808525\n",
      "  -0.13660677  0.10831311 -0.11567511  0.07578283 -0.22727048  0.14366234\n",
      "  -0.2159847   0.11922959 -0.18825416 -0.25220791 -0.24454481 -0.24842876\n",
      "  -0.19627431 -0.18518423  0.08483512 -0.17627109 -0.05191098 -0.19236042\n",
      "   0.17354255 -0.17871819  0.17027071 -0.14031124 -0.20735495 -0.09458295\n",
      "   0.12418081 -0.16242046  0.0419294  -0.20155581  0.11325106 -0.16956869\n",
      "   0.07218354 -0.11062549  0.0716249   0.05408386 -0.01406233 -0.02883602\n",
      "  -0.10895627  0.02695237 -0.02198411  0.06267077  0.03790505 -0.04567995\n",
      "  -0.08993375 -0.06996993]\n",
      " [ 0.15472214 -0.14200288  0.06430186 -0.16689618  0.08697568 -0.10324862\n",
      "   0.12542467 -0.19101722  0.17693314 -0.15789106 -0.12663846  0.10489014\n",
      "  -0.18007766  0.05554827 -0.0357616  -0.08461609 -0.00691229 -0.00981528\n",
      "  -0.02362407 -0.06608062  0.14073588 -0.07871419  0.20500582 -0.24965561\n",
      "   0.17254169 -0.22627793  0.11295206 -0.18892824 -0.22314844 -0.0748799\n",
      "  -0.18954574  0.18310677 -0.18250504  0.14797642 -0.20995235  0.18971849\n",
      "  -0.22825499  0.1808205  -0.24087341 -0.17496603  0.0303358  -0.03905681\n",
      "   0.02433984 -0.01214166  0.03014786 -0.03344177 -0.01393068  0.06327875\n",
      "  -0.12649935  0.04905992]\n",
      " [ 0.06423775 -0.07061577  0.11384628 -0.08785917  0.06362972  0.03446026\n",
      "   0.0830586  -0.05017148  0.01044573 -0.07696844 -0.00721773  0.01094012\n",
      "  -0.03034105  0.06484557  0.03469464  0.00502739 -0.04210254 -0.03819838\n",
      "  -0.04651022 -0.0890816  -0.00533139  0.05279817 -0.08487908  0.06933982\n",
      "  -0.0729166   0.09195632 -0.08047419  0.05089279  0.04024692  0.03236696\n",
      "  -0.08165384 -0.0381005  -0.1667105  -0.01437367  0.03784486 -0.01480396\n",
      "  -0.05525038  0.00588214  0.00384329 -0.14300905 -0.32935533  0.29343231\n",
      "  -0.28986777  0.25280019 -0.29785708  0.25760096 -0.26765828 -0.32528909\n",
      "  -0.20941557 -0.33032106]\n",
      " [ 0.1505073  -0.12959846  0.06714142 -0.13603745  0.13066123 -0.07180442\n",
      "   0.12705858 -0.14210969  0.15547763 -0.11123957  0.14200586 -0.14640578\n",
      "   0.10434857  0.00081664  0.12139285  0.15358981  0.16183165  0.16597976\n",
      "   0.2267004   0.0501572   0.17775494 -0.1095771   0.16640914 -0.20735756\n",
      "   0.19393025 -0.14165518  0.15448498 -0.14105755 -0.14295141 -0.02346177\n",
      "   0.212643   -0.19815245  0.11518442 -0.11680506  0.23611424 -0.19464958\n",
      "   0.22255438 -0.09058512  0.24833391  0.16713829 -0.01924263  0.11505248\n",
      "  -0.05578401  0.1526261   0.06797171  0.07043899  0.02616     0.00122253\n",
      "  -0.06721161  0.00849659]]\n"
     ]
    }
   ],
   "source": [
    "print(pca5.components_)"
   ]
  },
  {
   "cell_type": "code",
   "execution_count": null,
   "metadata": {},
   "outputs": [],
   "source": []
  }
 ],
 "metadata": {
  "kernelspec": {
   "display_name": "Python 3",
   "language": "python",
   "name": "python3"
  },
  "language_info": {
   "codemirror_mode": {
    "name": "ipython",
    "version": 3
   },
   "file_extension": ".py",
   "mimetype": "text/x-python",
   "name": "python",
   "nbconvert_exporter": "python",
   "pygments_lexer": "ipython3",
   "version": "3.6.5"
  }
 },
 "nbformat": 4,
 "nbformat_minor": 1
}
